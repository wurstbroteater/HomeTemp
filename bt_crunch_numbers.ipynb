{
 "cells": [
  {
   "cell_type": "code",
   "execution_count": null,
   "metadata": {},
   "outputs": [],
   "source": [
    "\n",
    "from core.core_log import setup_logging, get_logger\n",
    "import time\n",
    "import matplotlib.pyplot as plt\n",
    "from core.usage_util import init_database\n",
    "import numpy as np\n",
    "import pandas as pd\n",
    "import seaborn as sns\n",
    "from datetime import datetime, timedelta\n",
    "from core.database import SensorDataHandler\n",
    "from core.plotting import PlotData, SupportedDataFrames, draw_complete_summary\n",
    "from core.usage_util import get_data_for_plotting\n",
    "from core.util import create_timelapse\n",
    "from core.sensors.camera import RpiCamController, DIMENSION_FULL_HD, DIMENSION_CAMERA_DEFAULT\n",
    "from core.sensors.dht import get_sensor_data\n",
    "from core.core_configuration import load_config, database_config, core_config\n",
    "\n",
    "setup_logging()\n",
    "load_config()\n",
    "log = get_logger(__name__)\n",
    "\n",
    "auth = database_config()\n",
    "init_database(SensorDataHandler, auth, SupportedDataFrames.Main.table_name)"
   ]
  },
  {
   "cell_type": "code",
   "execution_count": null,
   "metadata": {},
   "outputs": [],
   "source": [
    "#live_sensor_data = get_sensor_data(int(core_config()[\"sensor_pin\"]), True)\n",
    "#live_sensor_data"
   ]
  },
  {
   "cell_type": "code",
   "execution_count": null,
   "metadata": {},
   "outputs": [],
   "source": [
    "rpi_cam = RpiCamController()\n",
    "#name = f'pictures/{datetime.now().strftime(\"%Y-%m-%d-%H:%M:%S\")}'\n",
    "name = \"current\"\n",
    "#rpi_cam.capture_image(file_path=name)\n",
    "#create_timelapse('./pictures', 'timelapse.mp4')"
   ]
  },
  {
   "cell_type": "code",
   "execution_count": null,
   "metadata": {},
   "outputs": [],
   "source": [
    "\n",
    "\n",
    "df = get_data_for_plotting(auth, SensorDataHandler, SupportedDataFrames.Main)\n",
    "\n",
    "# 1. Automation: 3 Sep 2024 19:15 to 29 Nov 2024 16:10\n",
    "#df = df[(df['timestamp'] >= datetime(year=2024, month=9, day=3, hour=19)) & (df['timestamp'] <= datetime(year=2024, month=11, day=29, hour=16))]\n",
    "df"
   ]
  },
  {
   "cell_type": "code",
   "execution_count": null,
   "metadata": {},
   "outputs": [],
   "source": [
    "df[[\"humidity\", \"room_temp\", \"cpu_temp\"]].describe()"
   ]
  },
  {
   "cell_type": "code",
   "execution_count": null,
   "metadata": {},
   "outputs": [],
   "source": [
    "corr_matrix = df[[\"humidity\", \"room_temp\", \"cpu_temp\"]].corr()\n",
    "#corr_matrix = df[[\"humidity\", \"room_temp\"]].corr()\n",
    "corr_matrix"
   ]
  },
  {
   "cell_type": "code",
   "execution_count": null,
   "metadata": {},
   "outputs": [],
   "source": [
    "draw_complete_summary([PlotData(SupportedDataFrames.Main, df, True)])"
   ]
  },
  {
   "cell_type": "code",
   "execution_count": null,
   "metadata": {},
   "outputs": [],
   "source": [
    "def foo():\n",
    "    plt.figure(figsize=(25, 10))\n",
    "    plt.subplot(2, 1, 1)\n",
    "\n",
    "    sns.lineplot(label=\"CPU\", x=\"timestamp\", y=\"cpu_temp\", data=df)\n",
    "    plt.title(\"Temperature Over Time\")\n",
    "    plt.xlabel(\"Time\")\n",
    "    plt.ylabel(\"Temp (°C)\")\n",
    "    plt.legend()\n",
    "    plt.xticks(rotation=45)\n",
    "\n",
    "    plt.subplot(2, 1, 2)\n",
    "    sns.lineplot(label=\"CPU\", x=\"timestamp\", y=\"cpu_temp\",marker='o',markersize=6, data=df[df[\"timestamp\"] >= datetime.now() - timedelta(hours=25)])\n",
    "    plt.title(\"Temperature Last 24h\")\n",
    "    plt.xlabel(\"Time\")\n",
    "    plt.ylabel(\"Temp (°C)\")\n",
    "    plt.legend()\n",
    "    plt.xticks(rotation=45)\n",
    "    plt.tight_layout()\n",
    "    plt.show()\n",
    "\n",
    "#foo()\n",
    "#df"
   ]
  }
 ],
 "metadata": {
  "kernelspec": {
   "display_name": ".venv",
   "language": "python",
   "name": "python3"
  },
  "language_info": {
   "codemirror_mode": {
    "name": "ipython",
    "version": 3
   },
   "file_extension": ".py",
   "mimetype": "text/x-python",
   "name": "python",
   "nbconvert_exporter": "python",
   "pygments_lexer": "ipython3",
   "version": "3.11.2"
  },
  "orig_nbformat": 4
 },
 "nbformat": 4,
 "nbformat_minor": 2
}
