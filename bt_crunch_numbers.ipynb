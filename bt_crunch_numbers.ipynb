{
 "cells": [
  {
   "cell_type": "code",
   "execution_count": 1,
   "metadata": {},
   "outputs": [],
   "source": [
    "# started automation onf 3 Sep 2024 19:15\n",
    "from core.core_log import setup_logging, get_logger\n",
    "import time\n",
    "import matplotlib.pyplot as plt\n",
    "import numpy as np\n",
    "import pandas as pd\n",
    "import seaborn as sns\n",
    "from datetime import datetime, timedelta\n",
    "from core.database import SensorDataHandler\n",
    "from core.plotting import draw_plots\n",
    "from core.util import create_timelapse\n",
    "from core.sensors.camera import RpiCamController, DIMENSION_FULL_HD, DIMENSION_CAMERA_DEFAULT\n",
    "from core.sensors.dht import get_sensor_data\n",
    "from core.core_configuration import load_config, database_config, hometemp_config\n",
    "\n",
    "setup_logging()\n",
    "load_config()\n",
    "log = get_logger(__name__)"
   ]
  },
  {
   "cell_type": "code",
   "execution_count": 2,
   "metadata": {},
   "outputs": [],
   "source": [
    "#live_sensor_data = get_sensor_data(int(hometemp_config()[\"sensor_pin\"]), True)\n",
    "#live_sensor_data"
   ]
  },
  {
   "cell_type": "code",
   "execution_count": 3,
   "metadata": {},
   "outputs": [],
   "source": [
    "rpi_cam = RpiCamController()\n",
    "#name = f'pictures/{datetime.now().strftime(\"%Y-%m-%d-%H:%M:%S\")}'\n",
    "name = \"current\"\n",
    "#rpi_cam.capture_image(file_path=name, rotation=90)\n",
    "#create_timelapse('./pictures', 'timelapse.mp4')"
   ]
  },
  {
   "cell_type": "code",
   "execution_count": null,
   "metadata": {},
   "outputs": [],
   "source": [
    "auth = database_config()\n",
    "handler = SensorDataHandler(auth['db_port'], auth['db_host'], auth['db_user'], auth['db_pw'], 'sensor_data')\n",
    "handler.init_db_connection(check_table=False)\n",
    "df = handler.read_data_into_dataframe()\n",
    "df['timestamp'] = df['timestamp'].map(lambda x : datetime.strptime(str(x).replace(\"+00:00\", \"\").strip(), '%Y-%m-%d %H:%M:%S'))\n",
    "df = df.sort_values(by='timestamp')\n",
    "df = df.reset_index()\n",
    "\n",
    "df"
   ]
  },
  {
   "cell_type": "code",
   "execution_count": 5,
   "metadata": {},
   "outputs": [],
   "source": [
    "# last two hours\n",
    "#df[[\"timestamp\", \"room_temp\"]].tail(12)"
   ]
  },
  {
   "cell_type": "code",
   "execution_count": null,
   "metadata": {},
   "outputs": [],
   "source": [
    "df[[\"humidity\", \"room_temp\", \"cpu_temp\"]].describe()"
   ]
  },
  {
   "cell_type": "code",
   "execution_count": null,
   "metadata": {},
   "outputs": [],
   "source": [
    "corr_matrix = df[[\"humidity\", \"room_temp\", \"cpu_temp\"]].corr()\n",
    "#corr_matrix = df[[\"humidity\", \"room_temp\"]].corr()\n",
    "corr_matrix"
   ]
  },
  {
   "cell_type": "code",
   "execution_count": 8,
   "metadata": {},
   "outputs": [],
   "source": [
    "#draw_plots(df, with_save=False)"
   ]
  },
  {
   "cell_type": "code",
   "execution_count": null,
   "metadata": {},
   "outputs": [],
   "source": [
    "def foo():\n",
    "    plt.figure(figsize=(25, 10))\n",
    "    plt.subplot(2, 1, 1)\n",
    "\n",
    "    sns.lineplot(label=\"CPU\", x=\"timestamp\", y=\"cpu_temp\", data=df)\n",
    "    plt.title(\"Temperature Over Time\")\n",
    "    plt.xlabel(\"Time\")\n",
    "    plt.ylabel(\"Temp (°C)\")\n",
    "    plt.legend()\n",
    "    plt.xticks(rotation=45)\n",
    "\n",
    "    plt.subplot(2, 1, 2)\n",
    "    sns.lineplot(label=\"CPU\", x=\"timestamp\", y=\"cpu_temp\",marker='o',markersize=6, data=df[df[\"timestamp\"] >= datetime.now() - timedelta(hours=25)])\n",
    "    plt.title(\"Temperature Last 24h\")\n",
    "    plt.xlabel(\"Time\")\n",
    "    plt.ylabel(\"Temp (°C)\")\n",
    "    plt.legend()\n",
    "    plt.xticks(rotation=45)\n",
    "    plt.tight_layout()\n",
    "    plt.show()\n",
    "\n",
    "#foo()\n",
    "df"
   ]
  },
  {
   "cell_type": "code",
   "execution_count": null,
   "metadata": {},
   "outputs": [],
   "source": [
    "from core.p import main_plot_params, inner_plots_params, create_multiple_lineplots, _validate_and_sort_timestamp\n",
    "import pandas as pd\n",
    "custom_theme = {\n",
    "    #'context': 'notebook',   # Can be 'paper', 'notebook', 'talk', 'poster'\n",
    "    'style': 'darkgrid',    # Can be 'darkgrid', 'whitegrid', 'dark', 'white', 'ticks'\n",
    "    'palette': 'deep'        # Can be 'deep', 'muted', 'bright', 'pastel', etc.\n",
    "}\n",
    "\n",
    "# Create single plots with the custom theme\n",
    "df = _validate_and_sort_timestamp(df)\n",
    "last_24h = datetime.now() - timedelta(hours=24)\n",
    "filtered_data = df[df['timestamp'] >= last_24h]\n",
    "#plot1 = create_single_lineplot(df, \"Home\", \"timestamp\", \"room_temp\", theme=custom_theme)\n",
    "# Combine multiple plots into one figure with the custom theme\n",
    "p1 = {\"main\": main_plot_params(df, \"Temperature Over Time\")}\n",
    "p2 = {'main': main_plot_params(filtered_data,\"Temperature Last 24 Hours\")}\n",
    "plots_w_params = [p1, p2]\n",
    "combined_fig, _ = create_multiple_lineplots(plots_w_params, theme=custom_theme, rows=2, cols=1)\n",
    "combined_fig\n",
    "\n",
    "#datas = [df, filtered_data]\n"
   ]
  },
  {
   "cell_type": "code",
   "execution_count": 11,
   "metadata": {},
   "outputs": [],
   "source": [
    "\n",
    "#create_multiple_plots(datas, max_plots_per_row=2, theme=custom_theme)\n",
    "# List[Tuple[Figure, Axes]]\n",
    "def bar(df_list):\n",
    "    \n",
    "    rows = 2\n",
    "    cols = int(len(df_list) / 2) +1 \n",
    "    print(f\"{rows}x{cols}\")\n",
    "    fig, axs = plt.subplots(rows, cols)\n",
    "    for i, df in enumerate(df_list):   \n",
    "        row, col = divmod(i, rows)\n",
    "        print(f\"i:{i} row:{row} col:{col}\")\n",
    "        ax_in_subplot = axs[row, col]\n",
    "        ax_in_subplot.plot(df['timestamp'], df['room_temp'])\n",
    "        ax_in_subplot.xticks(rotation=45)\n",
    "        #ax = fig.add_subplot(gs[row, col]) \n",
    "        #axes[i].xaxis.set_major_formatter(plt.matplotlib.dates.DateFormatter('%Y-%m-%d %H:%M:%S'))\n",
    "        #sns.lineplot(x=ax_single.lines[0].get_xdata(), y=ax_single.lines[0].get_ydata(), ax=ax)\n",
    "        #ax.set_xlabel(ax_single.get_xlabel())\n",
    "        #ax.set_ylabel(ax_single.get_ylabel())\n",
    "        #ax.set_title(f'Plot {i+1}')\n",
    "    fig.tight_layout()\n",
    "\n",
    "#bar(datas)"
   ]
  }
 ],
 "metadata": {
  "kernelspec": {
   "display_name": "Python 3",
   "language": "python",
   "name": "python3"
  },
  "language_info": {
   "codemirror_mode": {
    "name": "ipython",
    "version": 3
   },
   "file_extension": ".py",
   "mimetype": "text/x-python",
   "name": "python",
   "nbconvert_exporter": "python",
   "pygments_lexer": "ipython3",
   "version": "3.11.2"
  },
  "orig_nbformat": 4
 },
 "nbformat": 4,
 "nbformat_minor": 2
}
