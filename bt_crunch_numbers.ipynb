{
 "cells": [
  {
   "cell_type": "code",
   "execution_count": null,
   "metadata": {},
   "outputs": [],
   "source": [
    "\n",
    "from core.core_log import setup_logging, get_logger\n",
    "import time\n",
    "import matplotlib.pyplot as plt\n",
    "import numpy as np\n",
    "import pandas as pd\n",
    "import seaborn as sns\n",
    "from datetime import datetime, timedelta\n",
    "from core.database import SensorDataHandler\n",
    "from core.plotting import draw_plots\n",
    "from core.util import create_timelapse\n",
    "from core.sensors.camera import RpiCamController, DIMENSION_FULL_HD, DIMENSION_CAMERA_DEFAULT\n",
    "from core.sensors.dht import get_sensor_data\n",
    "from core.core_configuration import load_config, database_config, hometemp_config\n",
    "\n",
    "setup_logging()\n",
    "load_config()\n",
    "log = get_logger(__name__)"
   ]
  },
  {
   "cell_type": "code",
   "execution_count": null,
   "metadata": {},
   "outputs": [],
   "source": [
    "#live_sensor_data = get_sensor_data(int(hometemp_config()[\"sensor_pin\"]), True)\n",
    "#live_sensor_data"
   ]
  },
  {
   "cell_type": "code",
   "execution_count": null,
   "metadata": {},
   "outputs": [],
   "source": [
    "rpi_cam = RpiCamController()\n",
    "#name = f'pictures/{datetime.now().strftime(\"%Y-%m-%d-%H:%M:%S\")}'\n",
    "name = \"current\"\n",
    "#rpi_cam.capture_image(file_path=name)\n",
    "#create_timelapse('./pictures', 'timelapse.mp4')\n",
    "\n",
    "def _rotate_image(image_path: str, rotation: int) -> bool:\n",
    "    if rotation != 0:\n",
    "        image = Image.open(image_path)\n",
    "        # 'expand' to resize for the whole image\n",
    "        rotated_image = image.rotate(rotation, expand=True)\n",
    "        rotated_image.save(image_path)\n",
    "    return True\n",
    "\n",
    "#rot = [\"2024-10-08-21:50:40.png\"]#, \"2024-10-08-23:00:00.png\", \"2024-10-09-04:00:00.png\", \"2024-10-09-23:00:00.png\", \"2024-10-10-04:00:00.png\", \"2024-10-10-23:00:00.png\", \"2024-10-11-04:00:00.png\", \"2024-10-11-23:00:00.png\"]\n",
    "#map(lambda x: _rotate_image(f\"pictures/{x}\", 90), rot)"
   ]
  },
  {
   "cell_type": "code",
   "execution_count": null,
   "metadata": {},
   "outputs": [],
   "source": [
    "auth = database_config()\n",
    "handler = SensorDataHandler(auth['db_port'], auth['db_host'], auth['db_user'], auth['db_pw'], 'sensor_data')\n",
    "handler.init_db_connection(check_table=False)\n",
    "df = handler.read_data_into_dataframe()\n",
    "df['timestamp'] = df['timestamp'].map(lambda x : datetime.strptime(str(x).replace(\"+00:00\", \"\").strip(), '%Y-%m-%d %H:%M:%S'))\n",
    "df = df.sort_values(by='timestamp')\n",
    "df = df.reset_index()\n",
    "\n",
    "# started automation on 3 Sep 2024 19:15 and ended 29 Nov 2024 16:10\n",
    "df = df[(df['timestamp'] >= datetime(year=2024, month=9, day=3, hour=19)) & (df['timestamp'] <= datetime(year=2024, month=11, day=29, hour=16))]\n",
    "df"
   ]
  },
  {
   "cell_type": "code",
   "execution_count": null,
   "metadata": {},
   "outputs": [],
   "source": [
    "# last two hours\n",
    "#df[[\"timestamp\", \"room_temp\"]].tail(12)"
   ]
  },
  {
   "cell_type": "code",
   "execution_count": null,
   "metadata": {},
   "outputs": [],
   "source": [
    "df[[\"humidity\", \"room_temp\", \"cpu_temp\"]].describe()"
   ]
  },
  {
   "cell_type": "code",
   "execution_count": null,
   "metadata": {},
   "outputs": [],
   "source": [
    "corr_matrix = df[[\"humidity\", \"room_temp\", \"cpu_temp\"]].corr()\n",
    "#corr_matrix = df[[\"humidity\", \"room_temp\"]].corr()\n",
    "corr_matrix"
   ]
  },
  {
   "cell_type": "code",
   "execution_count": null,
   "metadata": {},
   "outputs": [],
   "source": [
    "draw_plots(df, with_save=False)"
   ]
  },
  {
   "cell_type": "code",
   "execution_count": null,
   "metadata": {},
   "outputs": [],
   "source": [
    "def foo():\n",
    "    plt.figure(figsize=(25, 10))\n",
    "    plt.subplot(2, 1, 1)\n",
    "\n",
    "    sns.lineplot(label=\"CPU\", x=\"timestamp\", y=\"cpu_temp\", data=df)\n",
    "    plt.title(\"Temperature Over Time\")\n",
    "    plt.xlabel(\"Time\")\n",
    "    plt.ylabel(\"Temp (°C)\")\n",
    "    plt.legend()\n",
    "    plt.xticks(rotation=45)\n",
    "\n",
    "    plt.subplot(2, 1, 2)\n",
    "    sns.lineplot(label=\"CPU\", x=\"timestamp\", y=\"cpu_temp\",marker='o',markersize=6, data=df[df[\"timestamp\"] >= datetime.now() - timedelta(hours=25)])\n",
    "    plt.title(\"Temperature Last 24h\")\n",
    "    plt.xlabel(\"Time\")\n",
    "    plt.ylabel(\"Temp (°C)\")\n",
    "    plt.legend()\n",
    "    plt.xticks(rotation=45)\n",
    "    plt.tight_layout()\n",
    "    plt.show()\n",
    "\n",
    "#foo()\n",
    "df"
   ]
  }
 ],
 "metadata": {
  "kernelspec": {
   "display_name": ".venv",
   "language": "python",
   "name": "python3"
  },
  "language_info": {
   "codemirror_mode": {
    "name": "ipython",
    "version": 3
   },
   "file_extension": ".py",
   "mimetype": "text/x-python",
   "name": "python",
   "nbconvert_exporter": "python",
   "pygments_lexer": "ipython3",
   "version": "3.11.2"
  },
  "orig_nbformat": 4
 },
 "nbformat": 4,
 "nbformat_minor": 2
}
