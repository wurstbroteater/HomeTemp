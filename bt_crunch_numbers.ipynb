{
 "cells": [
  {
   "cell_type": "code",
   "metadata": {},
   "source": [
    "# started automation onf 3 Sep 2024 19:15\n",
    "import configparser, logging, time\n",
    "import matplotlib.pyplot as plt\n",
    "import numpy as np\n",
    "import pandas as pd\n",
    "import seaborn as sns\n",
    "from datetime import datetime, timedelta\n",
    "from persist.database import SensorDataHandler\n",
    "from visualize.plots import draw_plots\n",
    "from sensors.camera import RpiCamController, DIMENSION_FULL_HD, DIMENSION_CAMERA_DEFAULT\n",
    "from sensors.dht import DHT, DHTResult\n",
    "_config = configparser.ConfigParser()\n",
    "_config.read('hometemp.ini')\n",
    "log = logging.getLogger('crunch_numbers')\n",
    "auth = _config[\"db\"]"
   ],
   "outputs": [],
   "execution_count": null
  },
  {
   "cell_type": "code",
   "metadata": {},
   "source": [
    "def get_sensor_data(used_pin):\n",
    "    \"\"\"\n",
    "    Returns temperature and humidity data measures by DHT11 Sensor and the measurement timestamp.\n",
    "    \"\"\"\n",
    "    max_tries = 20\n",
    "    tries = 0\n",
    "    DHT_SENSOR = DHT(used_pin, True)\n",
    "    while True:\n",
    "        if tries >= max_tries:\n",
    "            log.error(f\"Failed to retrieve data from DHT11 sensor: Maximum retries reached.\")\n",
    "            break\n",
    "        else:\n",
    "            time.sleep(2)\n",
    "            result = DHT_SENSOR.read()\n",
    "            if result.error_code == DHTResult.ERR_NOT_FOUND:\n",
    "                tries += 1\n",
    "                log.warning(f\"({tries}/{max_tries}) Sensor could not be found. Using correct pin?\")\n",
    "                # maybe exit here but invastige when this error occurs (should never)\n",
    "                continue\n",
    "            elif not result.is_valid():\n",
    "                tries += 1\n",
    "                log.warning(f\"({tries}/{max_tries}) Sensor data invalid\")\n",
    "                continue\n",
    "            elif result.is_valid() and result.error_code == DHTResult.ERR_NO_ERROR:\n",
    "                # postgres expects timestamp ins ISO 8601 format\n",
    "                timestamp = datetime.now().strftime(\"%Y-%m-%d %H:%M:%S\")\n",
    "                return result.temperature, result.humidity, timestamp\n",
    "    \n",
    "    return None, None, None\n",
    "\n",
    "#live_sensor_data = get_sensor_data(int(_config[\"hometemp\"][\"sensor_pin\"]))\n",
    "#live_sensor_data"
   ],
   "outputs": [],
   "execution_count": null
  },
  {
   "cell_type": "code",
   "metadata": {},
   "source": [
    "rpi_cam = RpiCamController()\n",
    "#name = f'pictures/{datetime.now().strftime(\"%Y-%m-%d-%H:%M:%S\")}'\n",
    "name = \"current\"\n",
    "rpi_cam.capture_image(file_path=name, rotation=90, dimension=DIMENSION_CAMERA_DEFAULT)"
   ],
   "outputs": [],
   "execution_count": null
  },
  {
   "cell_type": "code",
   "metadata": {},
   "source": [
    "handler = SensorDataHandler(auth['db_port'], auth['db_host'], auth['db_user'], auth['db_pw'], 'sensor_data')\n",
    "handler.init_db_connection(check_table=False)\n",
    "df = handler.read_data_into_dataframe()\n",
    "df['timestamp'] = df['timestamp'].map(lambda x : datetime.strptime(str(x).replace(\"+00:00\", \"\").strip(), '%Y-%m-%d %H:%M:%S'))\n",
    "df = df.sort_values(by='timestamp')\n",
    "df = df.reset_index()\n",
    "\n",
    "df"
   ],
   "outputs": [],
   "execution_count": null
  },
  {
   "cell_type": "code",
   "metadata": {},
   "source": [
    "# last two hours\n",
    "#df[[\"timestamp\", \"room_temp\"]].tail(12)"
   ],
   "outputs": [],
   "execution_count": null
  },
  {
   "cell_type": "code",
   "metadata": {},
   "source": "df[[\"humidity\", \"room_temp\", \"cpu_temp\"]].describe()",
   "outputs": [],
   "execution_count": null
  },
  {
   "cell_type": "code",
   "metadata": {},
   "source": [
    "corr_matrix = df[[\"humidity\", \"room_temp\", \"cpu_temp\"]].corr()\n",
    "#corr_matrix = df[[\"humidity\", \"room_temp\"]].corr()\n",
    "corr_matrix"
   ],
   "outputs": [],
   "execution_count": null
  },
  {
   "cell_type": "code",
   "metadata": {},
   "source": "draw_plots(df, with_save=False)",
   "outputs": [],
   "execution_count": null
  },
  {
   "cell_type": "code",
   "metadata": {},
   "source": [
    "plt.figure(figsize=(25, 10))\n",
    "plt.subplot(2, 1, 1)\n",
    "\n",
    "sns.lineplot(label=\"CPU\", x=\"timestamp\", y=\"cpu_temp\", data=df)\n",
    "plt.title(\"Temperature Over Time\")\n",
    "plt.xlabel(\"Time\")\n",
    "plt.ylabel(\"Temp (°C)\")\n",
    "plt.legend()\n",
    "plt.xticks(rotation=45)\n",
    "\n",
    "plt.subplot(2, 1, 2)\n",
    "sns.lineplot(label=\"CPU\", x=\"timestamp\", y=\"cpu_temp\",marker='o',markersize=6, data=df[df[\"timestamp\"] >= datetime.now() - timedelta(hours=25)])\n",
    "plt.title(\"Temperature Last 24h\")\n",
    "plt.xlabel(\"Time\")\n",
    "plt.ylabel(\"Temp (°C)\")\n",
    "plt.legend()\n",
    "plt.xticks(rotation=45)\n",
    "plt.tight_layout()\n",
    "plt.show()\n"
   ],
   "outputs": [],
   "execution_count": null
  },
  {
   "cell_type": "code",
   "metadata": {},
   "source": [],
   "outputs": [],
   "execution_count": null
  }
 ],
 "metadata": {
  "kernelspec": {
   "display_name": "Python 3",
   "language": "python",
   "name": "python3"
  },
  "language_info": {
   "codemirror_mode": {
    "name": "ipython",
    "version": 3
   },
   "file_extension": ".py",
   "mimetype": "text/x-python",
   "name": "python",
   "nbconvert_exporter": "python",
   "pygments_lexer": "ipython3",
   "version": "3.11.2"
  },
  "orig_nbformat": 4
 },
 "nbformat": 4,
 "nbformat_minor": 2
}
