{
 "cells": [
  {
   "cell_type": "code",
   "execution_count": null,
   "metadata": {},
   "outputs": [],
   "source": [
    "from core.core_log import setup_logging, get_logger\n",
    "from core.core_configuration import load_config, database_config\n",
    "import matplotlib.pyplot as plt\n",
    "import numpy as np\n",
    "import pandas as pd\n",
    "import seaborn as sns\n",
    "from datetime import datetime, timedelta\n",
    "from core.usage_util import get_data_for_plotting, init_database\n",
    "from core.database import DwDDataHandler, SensorDataHandler, GoogleDataHandler, UlmDeHandler, WetterComHandler\n",
    "from core.plotting import PlotData,SupportedDataFrames, draw_complete_summary\n",
    "\n",
    "setup_logging()\n",
    "load_config()\n",
    "log = get_logger(__name__)\n",
    "auth = database_config()\n",
    "\n",
    "init_database(SensorDataHandler, auth, SupportedDataFrames.Main.table_name)"
   ]
  },
  {
   "cell_type": "code",
   "execution_count": null,
   "metadata": {},
   "outputs": [],
   "source": [
    "ulmde_df = get_data_for_plotting(auth, UlmDeHandler, SupportedDataFrames.ULM_DE)\n",
    "ulmde_df"
   ]
  },
  {
   "cell_type": "code",
   "execution_count": null,
   "metadata": {},
   "outputs": [],
   "source": [
    "dwd_df = get_data_for_plotting(auth, DwDDataHandler, SupportedDataFrames.DWD_DE)\n",
    "dwd_df"
   ]
  },
  {
   "cell_type": "code",
   "execution_count": null,
   "metadata": {},
   "outputs": [],
   "source": [
    "wettercom_df = get_data_for_plotting(auth, WetterComHandler, SupportedDataFrames.WETTER_COM)\n",
    "wettercom_df"
   ]
  },
  {
   "cell_type": "code",
   "execution_count": null,
   "metadata": {},
   "outputs": [],
   "source": [
    "google_df = get_data_for_plotting(auth, GoogleDataHandler, SupportedDataFrames.GOOGLE_COM)\n",
    "google_df"
   ]
  },
  {
   "cell_type": "code",
   "execution_count": null,
   "metadata": {},
   "outputs": [],
   "source": [
    "df = get_data_for_plotting(auth, SensorDataHandler, SupportedDataFrames.Main)\n",
    "df"
   ]
  },
  {
   "cell_type": "code",
   "execution_count": null,
   "metadata": {},
   "outputs": [],
   "source": [
    "# measurement data collection started on 12th august 2023, 11 hours 32 minutes 54 seconds\n",
    "assert df['timestamp'].min() == pd.to_datetime(\"2023-08-12 11:32:54\")\n"
   ]
  },
  {
   "cell_type": "code",
   "execution_count": null,
   "metadata": {},
   "outputs": [],
   "source": [
    "df[[\"humidity\", \"room_temp\", \"cpu_temp\"]].describe()"
   ]
  },
  {
   "cell_type": "code",
   "execution_count": null,
   "metadata": {},
   "outputs": [],
   "source": [
    "corr_matrix = df[[\"humidity\", \"room_temp\", \"cpu_temp\"]].corr()\n",
    "#corr_matrix = df[[\"humidity\", \"room_temp\"]].corr()\n",
    "corr_matrix"
   ]
  },
  {
   "cell_type": "code",
   "execution_count": null,
   "metadata": {},
   "outputs": [],
   "source": [
    "test =[PlotData(SupportedDataFrames.Main, df, True),\n",
    "       PlotData(SupportedDataFrames.DWD_DE, dwd_df),\n",
    "        PlotData(SupportedDataFrames.GOOGLE_COM, google_df),\n",
    "         PlotData(SupportedDataFrames.WETTER_COM, wettercom_df),\n",
    "          PlotData(SupportedDataFrames.ULM_DE, ulmde_df)]\n",
    "draw_complete_summary(test)"
   ]
  },
  {
   "cell_type": "code",
   "execution_count": null,
   "metadata": {},
   "outputs": [],
   "source": [
    "plt.figure(figsize=(25, 10))\n",
    "plt.subplot(2, 1, 1)\n",
    "\n",
    "sns.lineplot(label=\"CPU\", x=\"timestamp\", y=\"cpu_temp\", data=df)\n",
    "plt.title(\"Temperature Over Time\")\n",
    "plt.xlabel(\"Time\")\n",
    "plt.ylabel(\"Temp (°C)\")\n",
    "plt.legend()\n",
    "plt.xticks(rotation=45)\n",
    "\n",
    "plt.subplot(2, 1, 2)\n",
    "sns.lineplot(label=\"CPU\", x=\"timestamp\", y=\"cpu_temp\",marker='o',markersize=6, data=df[df[\"timestamp\"] >= datetime.now() - timedelta(hours=25)])\n",
    "plt.title(\"Temperature Last 24h\")\n",
    "plt.xlabel(\"Time\")\n",
    "plt.ylabel(\"Temp (°C)\")\n",
    "plt.legend()\n",
    "plt.xticks(rotation=45)\n",
    "plt.tight_layout()\n",
    "plt.show()\n"
   ]
  },
  {
   "cell_type": "code",
   "execution_count": null,
   "metadata": {},
   "outputs": [],
   "source": [
    "plt.figure(figsize=(25, 10))\n",
    "plt.subplot(2, 1, 1)\n",
    "sns.lineplot(label=\"Google Forecast\", x=\"timestamp\", y=\"wind\", data=google_df)\n",
    "plt.title(\"Wind Speed Over Time\")\n",
    "plt.xlabel(\"Time\")\n",
    "plt.ylabel(\"Speed (Km/h)\")\n",
    "plt.legend()\n",
    "plt.xticks(rotation=45)\n",
    "\n",
    "plt.subplot(2, 1, 2)\n",
    "sns.lineplot(label=\"Google Forecast\", x=\"timestamp\", y=\"precipitation\", data=google_df)\n",
    "plt.title(\"Precipitation Chance Over Time\")\n",
    "plt.xlabel(\"Time\")\n",
    "plt.ylabel(\"precipitation (%)\")\n",
    "plt.legend()\n",
    "plt.xticks(rotation=45)\n",
    "plt.tight_layout()\n",
    "plt.show()\n"
   ]
  },
  {
   "cell_type": "code",
   "execution_count": null,
   "metadata": {},
   "outputs": [],
   "source": [
    "fitness = {}#pd.read_csv('fitness.csv')\n",
    "#fitness['time'] = fitness['time'].map(lambda x: datetime.strptime(x, \"%d-%m-%Y\"))\n",
    "#fitness['weight'] = fitness['weight'].map(lambda x: float(x))\n",
    "#fitness['bmi'] = fitness['bmi'].map(lambda x: float(x))\n",
    "#fitness['body_fat'] = fitness['body_fat'].map(lambda x: float(x))\n",
    "##fitness['muscle'] = fitness['muscle'].map(lambda x: float(x))\n",
    "#fitness['kcal'] = fitness['kcal'].map(lambda x: float(x))\n",
    "#fitness['visceral'] = fitness['visceral'].map(lambda x: float(x))\n",
    "#fitness = fitness.sort_values(by=\"time\")\n",
    "\n",
    "#fitness.drop(['time'], axis=1).describe()"
   ]
  },
  {
   "cell_type": "code",
   "execution_count": null,
   "metadata": {},
   "outputs": [],
   "source": [
    "def plot_fitness(fitness):\n",
    "    plt.figure(figsize=(25, 10))\n",
    "\n",
    "    # Visualization 1: Line plot for weight over time\n",
    "    plt.subplot(2, 2, 1)\n",
    "    sns.lineplot(data=fitness, x='time', y='weight')\n",
    "    plt.xticks(rotation=45)\n",
    "    plt.title('Weight over Time')\n",
    "\n",
    "    # Visualization 2: Line plot for BMI over time\n",
    "    plt.subplot(2, 2, 2)\n",
    "    sns.lineplot(data=fitness, x='time', y='bmi')\n",
    "    plt.xticks(rotation=45)\n",
    "    plt.title('BMI over Time')\n",
    "\n",
    "    # Visualization 3: Line plot for body fat over time\n",
    "    plt.subplot(2, 2, 3)\n",
    "    sns.lineplot(data=fitness, x='time', y='body_fat')\n",
    "    plt.xticks(rotation=45)\n",
    "    plt.title('Body Fat over Time')\n",
    "\n",
    "    # Visualization 4: Line plot for muscle over time\n",
    "    plt.subplot(2, 2, 4)\n",
    "    sns.lineplot(data=fitness, x='time', y='muscle')\n",
    "    plt.xticks(rotation=45)\n",
    "    plt.title('Muscle over Time')\n",
    "\n",
    "    plt.tight_layout()\n",
    "    plt.show()\n",
    "\n",
    "def plot_fitness_corr(fitness):\n",
    "    correlation_matrix = fitness[[\"weight\", \"bmi\", \"body_fat\", \"muscle\", \"kcal\", \"visceral\"]].corr()\n",
    "    plt.figure(figsize=(10, 8))\n",
    "    mask = np.triu(np.ones_like(correlation_matrix, dtype=bool))\n",
    "    sns.heatmap(correlation_matrix, annot=True,mask=mask, cmap='coolwarm', center=0)\n",
    "    plt.title('Correlation Heatmap')\n",
    "    plt.show()\n",
    "\n",
    "#plot_fitness(fitness)\n",
    "#plot_fitness_corr(fitness)\n",
    "\n",
    "def plot_overall_heatmap():\n",
    "    heat_df = pd.concat([\n",
    "        df[df[\"timestamp\"] >= datetime.now() - timedelta(hours=25)][[\"humidity\", \"room_temp\", \"cpu_temp\"]].rename(lambda x: f\"home_{x}\", axis=\"columns\"),\n",
    "        google_df[google_df[\"timestamp\"] >= datetime.now() - timedelta(hours=25)].drop(['id', 'timestamp'],axis=1).rename(lambda x: f\"google_{x}\", axis=\"columns\"),\n",
    "        dwd_df[dwd_df[\"timestamp\"] >= datetime.now() - timedelta(hours=25)].drop(['id', 'timestamp'],axis=1).rename(lambda x: f\"dwd_{x}\", axis=\"columns\")\n",
    "    ])\n",
    "\n",
    "    m = heat_df.corr()\n",
    "    plt.figure(figsize=(10, 8))\n",
    "    mask = np.triu(np.ones_like(m, dtype=bool))\n",
    "    sns.heatmap(m, annot=True,mask=mask, cmap='coolwarm', center=0)\n",
    "    plt.title('Correlation Heatmap')\n",
    "    plt.show()\n",
    "    return m\n",
    "\n",
    "#plot_overall_heatmap()"
   ]
  },
  {
   "cell_type": "code",
   "execution_count": null,
   "metadata": {},
   "outputs": [],
   "source": []
  }
 ],
 "metadata": {
  "kernelspec": {
   "display_name": ".venv",
   "language": "python",
   "name": "python3"
  },
  "language_info": {
   "codemirror_mode": {
    "name": "ipython",
    "version": 3
   },
   "file_extension": ".py",
   "mimetype": "text/x-python",
   "name": "python",
   "nbconvert_exporter": "python",
   "pygments_lexer": "ipython3",
   "version": "3.11.2"
  },
  "orig_nbformat": 4
 },
 "nbformat": 4,
 "nbformat_minor": 2
}
