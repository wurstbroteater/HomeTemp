{
 "cells": [
  {
   "cell_type": "code",
   "metadata": {},
   "source": [
    "import re\n",
    "import matplotlib.pyplot as plt\n",
    "import numpy as np\n",
    "import pandas as pd\n",
    "import seaborn as sns\n",
    "from datetime import datetime, timedelta\n",
    "from core.database import DwDDataHandler, SensorDataHandler, GoogleDataHandler, UlmDeHandler, WetterComHandler\n",
    "from core.p import draw_plots\n",
    "from core.core_configuration import load_config, database_config\n",
    "\n",
    "load_config()\n",
    "auth = database_config()"
   ],
   "outputs": [],
   "execution_count": null
  },
  {
   "cell_type": "code",
   "metadata": {},
   "source": [
    "ulmde_handler = UlmDeHandler(auth['db_port'], auth['db_host'], auth['db_user'], auth['db_pw'], 'ulmde_data')\n",
    "ulmde_handler.init_db_connection()\n",
    "ulmde_df = ulmde_handler.read_data_into_dataframe()\n",
    "ulmde_df['timestamp'] = ulmde_df['timestamp'].map(lambda x: datetime.strptime(str(x).strip().replace('+00:00', ''), '%Y-%m-%d %H:%M:%S'))\n",
    "ulmde_df"
   ],
   "outputs": [],
   "execution_count": null
  },
  {
   "cell_type": "code",
   "metadata": {},
   "source": [
    "dwd_handler = DwDDataHandler(auth['db_port'], auth['db_host'], auth['db_user'], auth['db_pw'], 'dwd_data')\n",
    "dwd_handler.init_db_connection()\n",
    "dwd_df = dwd_handler.read_data_into_dataframe()\n",
    "dwd_df['timestamp'] = dwd_df['timestamp'].map(lambda x: datetime.strptime(str(x).strip().replace('+00:00', ''), '%Y-%m-%d %H:%M:%S'))\n",
    "dwd_df = dwd_df.sort_values(by=\"timestamp\")\n",
    "\n",
    "dwd_df.drop(['id', 'timestamp'],axis=1).describe()"
   ],
   "outputs": [],
   "execution_count": null
  },
  {
   "cell_type": "code",
   "metadata": {},
   "source": [
    "wettercom_handler = WetterComHandler(auth['db_port'], auth['db_host'], auth['db_user'], auth['db_pw'],'wettercom_data')\n",
    "wettercom_handler.init_db_connection()\n",
    "wettercom_df = wettercom_handler.read_data_into_dataframe()\n",
    "wettercom_df['timestamp'] = wettercom_df['timestamp'].map(lambda x: datetime.strptime(str(x).strip().replace('+00:00', ''), '%Y-%m-%d %H:%M:%S'))\n",
    "wettercom_df"
   ],
   "outputs": [],
   "execution_count": null
  },
  {
   "cell_type": "code",
   "metadata": {},
   "source": [
    "\n",
    "google_handler = GoogleDataHandler(auth['db_port'], auth['db_host'], auth['db_user'], auth['db_pw'], 'google_data')\n",
    "google_handler.init_db_connection()\n",
    "google_df = google_handler.read_data_into_dataframe()\n",
    "google_df['timestamp'] = google_df['timestamp'].map(lambda x: datetime.strptime(re.sub('\\..*', '', str(x).strip()), '%Y-%m-%d %H:%M:%S'))\n",
    "google_df = google_df.sort_values(by=\"timestamp\")\n",
    "\n",
    "google_df"
   ],
   "outputs": [],
   "execution_count": null
  },
  {
   "cell_type": "code",
   "metadata": {},
   "source": [
    "google_df.drop(['id', 'timestamp'],axis=1).describe()\n"
   ],
   "outputs": [],
   "execution_count": null
  },
  {
   "cell_type": "code",
   "metadata": {},
   "source": [
    "handler = SensorDataHandler(auth['db_port'], auth['db_host'], auth['db_user'], auth['db_pw'], 'sensor_data')\n",
    "handler.init_db_connection(check_table=False)\n",
    "df = handler.read_data_into_dataframe()\n",
    "df['timestamp'] = df['timestamp'].map(lambda x : datetime.strptime(str(x).replace(\"+00:00\", \"\").strip(), '%Y-%m-%d %H:%M:%S'))\n",
    "df = df.sort_values(by='timestamp')\n",
    "df = df.reset_index()\n",
    "#print(str(df['timestamp'][0].month), str(df['timestamp'][0].day))\n",
    "\n",
    "df"
   ],
   "outputs": [],
   "execution_count": null
  },
  {
   "cell_type": "code",
   "metadata": {},
   "source": [
    "# measurement data collection started on 12th august 2023, 11 hours 32 minutes 54 seconds\n",
    "assert df['timestamp'][0].day == 12 and df['timestamp'][0].month == 8 and df['timestamp'][0].year == 2023 and df['timestamp'][0].hour == 11 and df['timestamp'][0].minute == 32 and df['timestamp'][0].second == 54"
   ],
   "outputs": [],
   "execution_count": null
  },
  {
   "cell_type": "code",
   "metadata": {},
   "source": [
    "df[[\"humidity\", \"room_temp\", \"cpu_temp\"]].describe()"
   ],
   "outputs": [],
   "execution_count": null
  },
  {
   "cell_type": "code",
   "metadata": {},
   "source": [
    "corr_matrix = df[[\"humidity\", \"room_temp\", \"cpu_temp\"]].corr()\n",
    "#corr_matrix = df[[\"humidity\", \"room_temp\"]].corr()\n",
    "corr_matrix"
   ],
   "outputs": [],
   "execution_count": null
  },
  {
   "cell_type": "code",
   "metadata": {},
   "source": "draw_plots(df,dwd_df=dwd_df,google_df=google_df,wettercom_df=wettercom_df,ulmde_df=ulmde_df, with_save=False)",
   "outputs": [],
   "execution_count": null
  },
  {
   "cell_type": "code",
   "metadata": {},
   "source": [
    "plt.figure(figsize=(25, 10))\n",
    "plt.subplot(2, 1, 1)\n",
    "\n",
    "sns.lineplot(label=\"CPU\", x=\"timestamp\", y=\"cpu_temp\", data=df)\n",
    "plt.title(\"Temperature Over Time\")\n",
    "plt.xlabel(\"Time\")\n",
    "plt.ylabel(\"Temp (°C)\")\n",
    "plt.legend()\n",
    "plt.xticks(rotation=45)\n",
    "\n",
    "plt.subplot(2, 1, 2)\n",
    "sns.lineplot(label=\"CPU\", x=\"timestamp\", y=\"cpu_temp\",marker='o',markersize=6, data=df[df[\"timestamp\"] >= datetime.now() - timedelta(hours=25)])\n",
    "plt.title(\"Temperature Last 24h\")\n",
    "plt.xlabel(\"Time\")\n",
    "plt.ylabel(\"Temp (°C)\")\n",
    "plt.legend()\n",
    "plt.xticks(rotation=45)\n",
    "plt.tight_layout()\n",
    "plt.show()\n"
   ],
   "outputs": [],
   "execution_count": null
  },
  {
   "cell_type": "code",
   "metadata": {},
   "source": [
    "plt.figure(figsize=(25, 10))\n",
    "plt.subplot(2, 1, 1)\n",
    "sns.lineplot(label=\"Google Forecast\", x=\"timestamp\", y=\"wind\", data=google_df)\n",
    "plt.title(\"Wind Speed Over Time\")\n",
    "plt.xlabel(\"Time\")\n",
    "plt.ylabel(\"Speed (Km/h)\")\n",
    "plt.legend()\n",
    "plt.xticks(rotation=45)\n",
    "\n",
    "plt.subplot(2, 1, 2)\n",
    "sns.lineplot(label=\"Google Forecast\", x=\"timestamp\", y=\"precipitation\", data=google_df)\n",
    "plt.title(\"Precipitation Chance Over Time\")\n",
    "plt.xlabel(\"Time\")\n",
    "plt.ylabel(\"precipitation (%)\")\n",
    "plt.legend()\n",
    "plt.xticks(rotation=45)\n",
    "plt.tight_layout()\n",
    "plt.show()\n"
   ],
   "outputs": [],
   "execution_count": null
  },
  {
   "cell_type": "code",
   "metadata": {},
   "source": [
    "fitness = pd.read_csv('fitness.csv')\n",
    "fitness['time'] = fitness['time'].map(lambda x: datetime.strptime(x, \"%d-%m-%Y\"))\n",
    "fitness['weight'] = fitness['weight'].map(lambda x: float(x))\n",
    "fitness['bmi'] = fitness['bmi'].map(lambda x: float(x))\n",
    "fitness['body_fat'] = fitness['body_fat'].map(lambda x: float(x))\n",
    "fitness['muscle'] = fitness['muscle'].map(lambda x: float(x))\n",
    "fitness['kcal'] = fitness['kcal'].map(lambda x: float(x))\n",
    "fitness['visceral'] = fitness['visceral'].map(lambda x: float(x))\n",
    "fitness = fitness.sort_values(by=\"time\")\n",
    "\n",
    "fitness.drop(['time'], axis=1).describe()"
   ],
   "outputs": [],
   "execution_count": null
  },
  {
   "cell_type": "code",
   "metadata": {},
   "source": [
    "def plot_fitness(fitness):\n",
    "    plt.figure(figsize=(25, 10))\n",
    "\n",
    "    # Visualization 1: Line plot for weight over time\n",
    "    plt.subplot(2, 2, 1)\n",
    "    sns.lineplot(data=fitness, x='time', y='weight')\n",
    "    plt.xticks(rotation=45)\n",
    "    plt.title('Weight over Time')\n",
    "\n",
    "    # Visualization 2: Line plot for BMI over time\n",
    "    plt.subplot(2, 2, 2)\n",
    "    sns.lineplot(data=fitness, x='time', y='bmi')\n",
    "    plt.xticks(rotation=45)\n",
    "    plt.title('BMI over Time')\n",
    "\n",
    "    # Visualization 3: Line plot for body fat over time\n",
    "    plt.subplot(2, 2, 3)\n",
    "    sns.lineplot(data=fitness, x='time', y='body_fat')\n",
    "    plt.xticks(rotation=45)\n",
    "    plt.title('Body Fat over Time')\n",
    "\n",
    "    # Visualization 4: Line plot for muscle over time\n",
    "    plt.subplot(2, 2, 4)\n",
    "    sns.lineplot(data=fitness, x='time', y='muscle')\n",
    "    plt.xticks(rotation=45)\n",
    "    plt.title('Muscle over Time')\n",
    "\n",
    "    plt.tight_layout()\n",
    "    plt.show()\n",
    "\n",
    "def plot_fitness_corr(fitness):\n",
    "    correlation_matrix = fitness[[\"weight\", \"bmi\", \"body_fat\", \"muscle\", \"kcal\", \"visceral\"]].corr()\n",
    "    plt.figure(figsize=(10, 8))\n",
    "    mask = np.triu(np.ones_like(correlation_matrix, dtype=bool))\n",
    "    sns.heatmap(correlation_matrix, annot=True,mask=mask, cmap='coolwarm', center=0)\n",
    "    plt.title('Correlation Heatmap')\n",
    "    plt.show()\n",
    "\n",
    "plot_fitness(fitness)\n",
    "plot_fitness_corr(fitness)\n",
    "\n",
    "def plot_overall_heatmap():\n",
    "    heat_df = pd.concat([\n",
    "        df[df[\"timestamp\"] >= datetime.now() - timedelta(hours=25)][[\"humidity\", \"room_temp\", \"cpu_temp\"]].rename(lambda x: f\"home_{x}\", axis=\"columns\"),\n",
    "        google_df[google_df[\"timestamp\"] >= datetime.now() - timedelta(hours=25)].drop(['id', 'timestamp'],axis=1).rename(lambda x: f\"google_{x}\", axis=\"columns\"),\n",
    "        dwd_df[dwd_df[\"timestamp\"] >= datetime.now() - timedelta(hours=25)].drop(['id', 'timestamp'],axis=1).rename(lambda x: f\"dwd_{x}\", axis=\"columns\")\n",
    "    ])\n",
    "\n",
    "    m = heat_df.corr()\n",
    "    plt.figure(figsize=(10, 8))\n",
    "    mask = np.triu(np.ones_like(m, dtype=bool))\n",
    "    sns.heatmap(m, annot=True,mask=mask, cmap='coolwarm', center=0)\n",
    "    plt.title('Correlation Heatmap')\n",
    "    plt.show()\n",
    "    return m\n",
    "\n",
    "#plot_overall_heatmap()"
   ],
   "outputs": [],
   "execution_count": null
  },
  {
   "cell_type": "code",
   "metadata": {},
   "source": [],
   "outputs": [],
   "execution_count": null
  }
 ],
 "metadata": {
  "kernelspec": {
   "display_name": "Python 3",
   "language": "python",
   "name": "python3"
  },
  "language_info": {
   "codemirror_mode": {
    "name": "ipython",
    "version": 3
   },
   "file_extension": ".py",
   "mimetype": "text/x-python",
   "name": "python",
   "nbconvert_exporter": "python",
   "pygments_lexer": "ipython3",
   "version": "3.11.2"
  },
  "orig_nbformat": 4
 },
 "nbformat": 4,
 "nbformat_minor": 2
}
