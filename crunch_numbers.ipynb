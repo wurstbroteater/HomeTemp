{
 "cells": [
  {
   "cell_type": "code",
   "execution_count": null,
   "metadata": {},
   "outputs": [],
   "source": [
    "import configparser\n",
    "config = configparser.ConfigParser()\n",
    "config.read('hometemp.ini')\n",
    "import matplotlib.pyplot as plt\n",
    "import numpy as np\n",
    "import pandas as pd\n",
    "import seaborn as sns\n",
    "from datetime import datetime, timedelta\n",
    "from persist.database import SensorDataHandler\n",
    "from visualize.plots import draw_plots\n",
    "\n",
    "auth = config[\"db\"]\n"
   ]
  },
  {
   "cell_type": "code",
   "execution_count": null,
   "metadata": {},
   "outputs": [],
   "source": [
    "handler = SensorDataHandler(auth['db_port'], auth['db_host'], auth['db_user'], auth['db_pw'], 'sensor_data')\n",
    "handler.init_db_connection(check_table=False)\n",
    "df = handler.read_data_into_dataframe()\n",
    "df['timestamp'] = df['timestamp'].map(lambda x : datetime.strptime(str(x).replace(\"+00:00\", \"\").strip(), '%Y-%m-%d %H:%M:%S'))\n",
    "df = df.sort_values(by='timestamp')\n",
    "df = df.reset_index()\n",
    "#print(str(df['timestamp'][0].month), str(df['timestamp'][0].day))\n",
    "\n",
    "df"
   ]
  },
  {
   "cell_type": "code",
   "execution_count": null,
   "metadata": {},
   "outputs": [],
   "source": [
    "df[[\"humidity\", \"room_temp\", \"cpu_temp\"]].describe()"
   ]
  },
  {
   "cell_type": "code",
   "execution_count": null,
   "metadata": {},
   "outputs": [],
   "source": [
    "corr_matrix = df[[\"humidity\", \"room_temp\", \"cpu_temp\"]].corr()\n",
    "#corr_matrix = df[[\"humidity\", \"room_temp\"]].corr()\n",
    "corr_matrix"
   ]
  },
  {
   "cell_type": "code",
   "execution_count": null,
   "metadata": {},
   "outputs": [],
   "source": [
    "draw_plots(df, with_save=False)"
   ]
  },
  {
   "cell_type": "code",
   "execution_count": null,
   "metadata": {},
   "outputs": [],
   "source": [
    "plt.figure(figsize=(25, 10))\n",
    "plt.subplot(2, 1, 1)\n",
    "\n",
    "sns.lineplot(label=\"CPU\", x=\"timestamp\", y=\"cpu_temp\", data=df)\n",
    "plt.title(\"Temperature Over Time\")\n",
    "plt.xlabel(\"Time\")\n",
    "plt.ylabel(\"Temp (°C)\")\n",
    "plt.legend()\n",
    "plt.xticks(rotation=45)\n",
    "\n",
    "plt.subplot(2, 1, 2)\n",
    "sns.lineplot(label=\"CPU\", x=\"timestamp\", y=\"cpu_temp\",marker='o',markersize=6, data=df[df[\"timestamp\"] >= datetime.now() - timedelta(hours=25)])\n",
    "plt.title(\"Temperature Last 24h\")\n",
    "plt.xlabel(\"Time\")\n",
    "plt.ylabel(\"Temp (°C)\")\n",
    "plt.legend()\n",
    "plt.xticks(rotation=45)\n",
    "plt.tight_layout()\n",
    "plt.show()\n"
   ]
  },
  {
   "cell_type": "code",
   "execution_count": null,
   "metadata": {},
   "outputs": [],
   "source": []
  }
 ],
 "metadata": {
  "kernelspec": {
   "display_name": "Python 3",
   "language": "python",
   "name": "python3"
  },
  "language_info": {
   "codemirror_mode": {
    "name": "ipython",
    "version": 3
   },
   "file_extension": ".py",
   "mimetype": "text/x-python",
   "name": "python",
   "nbconvert_exporter": "python",
   "pygments_lexer": "ipython3",
   "version": "3.11.2"
  },
  "orig_nbformat": 4
 },
 "nbformat": 4,
 "nbformat_minor": 2
}
